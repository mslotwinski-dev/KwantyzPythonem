{
 "cells": [
  {
   "cell_type": "markdown",
   "metadata": {},
   "source": [
    "## Zadanie 1"
   ]
  },
  {
   "cell_type": "code",
   "execution_count": 82,
   "metadata": {},
   "outputs": [
    {
     "name": "stdout",
     "output_type": "stream",
     "text": [
      "Funkcja falowa\n"
     ]
    },
    {
     "data": {
      "image/png": "[encoded data removed]",
      "text/latex": [
       "$\\displaystyle A e^{- L \\left|{x}\\right| - i t w}$"
      ],
      "text/plain": [
       "   -L⋅│x│ - ⅈ⋅t⋅w\n",
       "A⋅ℯ              "
      ]
     },
     "execution_count": 82,
     "metadata": {},
     "output_type": "execute_result"
    }
   ],
   "source": [
    "import sympy as sp\n",
    "\n",
    "sp.init_printing()\n",
    "\n",
    "x = sp.Symbol('x')\n",
    "t = sp.Symbol('t', positive = True)\n",
    "A = sp.Symbol('A', real = True)\n",
    "L = sp.Symbol('L', positive=True)\n",
    "omega = sp.Symbol('w', positive=True)\n",
    "\n",
    "Psi = A*sp.exp(-L*sp.Abs(x) - sp.I*omega*t)\n",
    "\n",
    "\n",
    "print('Funkcja falowa')\n",
    "Psi\n"
   ]
  },
  {
   "cell_type": "code",
   "execution_count": 76,
   "metadata": {},
   "outputs": [
    {
     "name": "stdout",
     "output_type": "stream",
     "text": [
      "Stała normowania\n"
     ]
    },
    {
     "data": {
      "image/png": "[encoded data removed]",
      "text/latex": [
       "$\\displaystyle A = \\sqrt{L}$"
      ],
      "text/plain": [
       "A = √L"
      ]
     },
     "execution_count": 76,
     "metadata": {},
     "output_type": "execute_result"
    }
   ],
   "source": [
    "\n",
    "sol = sp.integrate(sp.Abs(Psi)**2, (x, -sp.oo, sp.oo))\n",
    "_, As = sp.solve(sp.Eq(sol, 1), A)\n",
    "\n",
    "print('Stała normowania')\n",
    "sp.Eq(A, As)\n",
    "\n"
   ]
  },
  {
   "cell_type": "code",
   "execution_count": 77,
   "metadata": {},
   "outputs": [
    {
     "name": "stdout",
     "output_type": "stream",
     "text": [
      "Unormowana funkcja falowa\n"
     ]
    },
    {
     "data": {
      "image/png": "[encoded data removed]",
      "text/latex": [
       "$\\displaystyle \\sqrt{L} e^{- L \\left|{x}\\right| - i t w}$"
      ],
      "text/plain": [
       "    -L⋅│x│ - ⅈ⋅t⋅w\n",
       "√L⋅ℯ              "
      ]
     },
     "execution_count": 77,
     "metadata": {},
     "output_type": "execute_result"
    }
   ],
   "source": [
    "Psin = Psi.subs(A, As)\n",
    "\n",
    "print('Unormowana funkcja falowa')\n",
    "Psin"
   ]
  },
  {
   "cell_type": "code",
   "execution_count": 80,
   "metadata": {},
   "outputs": [
    {
     "name": "stdout",
     "output_type": "stream",
     "text": [
      "Średnia wartość x: \n"
     ]
    },
    {
     "data": {
      "image/png": "[encoded data removed]",
      "text/latex": [
       "$\\displaystyle 0$"
      ],
      "text/plain": [
       "0"
      ]
     },
     "execution_count": 80,
     "metadata": {},
     "output_type": "execute_result"
    }
   ],
   "source": [
    "xsr = sp.integrate(x*sp.Abs(Psin)**2, (x, -sp.oo, sp.oo))\n",
    "\n",
    "print('Średnia wartość x: ')\n",
    "xsr"
   ]
  },
  {
   "cell_type": "code",
   "execution_count": 81,
   "metadata": {},
   "outputs": [
    {
     "name": "stdout",
     "output_type": "stream",
     "text": [
      "Średnia wartość x^2: \n"
     ]
    },
    {
     "data": {
      "image/png": "[encoded data removed]",
      "text/latex": [
       "$\\displaystyle \\frac{1}{2 L^{2}}$"
      ],
      "text/plain": [
       " 1  \n",
       "────\n",
       "   2\n",
       "2⋅L "
      ]
     },
     "execution_count": 81,
     "metadata": {},
     "output_type": "execute_result"
    }
   ],
   "source": [
    "x2sr = sp.integrate(x**2*sp.Abs(Psin)**2, (x, -sp.oo, sp.oo))\n",
    "\n",
    "print('Średnia wartość x^2: ')\n",
    "x2sr"
   ]
  }
 ],
 "metadata": {
  "kernelspec": {
   "display_name": "Python 3",
   "language": "python",
   "name": "python3"
  },
  "language_info": {
   "codemirror_mode": {
    "name": "ipython",
    "version": 3
   },
   "file_extension": ".py",
   "mimetype": "text/x-python",
   "name": "python",
   "nbconvert_exporter": "python",
   "pygments_lexer": "ipython3",
   "version": "3.11.4"
  }
 },
 "nbformat": 4,
 "nbformat_minor": 2
}
