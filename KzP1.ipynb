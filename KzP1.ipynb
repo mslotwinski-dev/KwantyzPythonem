{
 "cells": [
  {
   "cell_type": "markdown",
   "metadata": {},
   "source": [
    "## Zadanie 1"
   ]
  },
  {
   "cell_type": "code",
   "execution_count": 43,
   "metadata": {},
   "outputs": [
    {
     "name": "stdout",
     "output_type": "stream",
     "text": [
      "Funkcja falowa\n"
     ]
    },
    {
     "data": {
      "image/png": "[encoded data removed]",
      "text/latex": [
       "$\\displaystyle A e^{- L \\left|{x}\\right|}$"
      ],
      "text/plain": [
       "   -L⋅│x│\n",
       "A⋅ℯ      "
      ]
     },
     "execution_count": 43,
     "metadata": {},
     "output_type": "execute_result"
    }
   ],
   "source": [
    "import sympy as sp\n",
    "import matplotlib.pyplot as plt\n",
    "import numpy as np\n",
    "\n",
    "sp.init_printing()\n",
    "\n",
    "x = sp.Symbol('x')\n",
    "A = sp.Symbol('A')\n",
    "L = sp.Symbol('L', positive=True)\n",
    "\n",
    "Psi = A*sp.exp(-L*sp.Abs(x))\n",
    "\n",
    "\n",
    "print('Funkcja falowa')\n",
    "Psi\n"
   ]
  },
  {
   "cell_type": "code",
   "execution_count": null,
   "metadata": {},
   "outputs": [
    {
     "name": "stdout",
     "output_type": "stream",
     "text": [
      "Unormowana funkcja\n"
     ]
    },
    {
     "data": {
      "image/png": "[encoded data removed]",
      "text/latex": [
       "$\\displaystyle \\sqrt{L} e^{- L \\left|{x}\\right|}$"
      ],
      "text/plain": [
       "    -L⋅│x│\n",
       "√L⋅ℯ      "
      ]
     },
     "execution_count": 44,
     "metadata": {},
     "output_type": "execute_result"
    }
   ],
   "source": [
    "sol = sp.integrate(Psi**2, (x, -sp.oo, sp.oo))\n",
    "_, As = sp.solve(sp.Eq(sol, 1), A)\n",
    "\n",
    "Psin = Psi.subs(A, As)\n",
    "\n",
    "print('Unormowana funkcja falowa')\n",
    "Psin"
   ]
  }
 ],
 "metadata": {
  "kernelspec": {
   "display_name": "Python 3",
   "language": "python",
   "name": "python3"
  },
  "language_info": {
   "codemirror_mode": {
    "name": "ipython",
    "version": 3
   },
   "file_extension": ".py",
   "mimetype": "text/x-python",
   "name": "python",
   "nbconvert_exporter": "python",
   "pygments_lexer": "ipython3",
   "version": "3.11.4"
  }
 },
 "nbformat": 4,
 "nbformat_minor": 2
}
